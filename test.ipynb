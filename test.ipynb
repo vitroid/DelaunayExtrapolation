{
  "nbformat": 4,
  "nbformat_minor": 0,
  "metadata": {
    "colab": {
      "name": "DelaunayTest.ipynb",
      "provenance": [],
      "collapsed_sections": [],
      "authorship_tag": "ABX9TyPzRLzuEt+68Gl5sN/MenDo",
      "include_colab_link": true
    },
    "kernelspec": {
      "name": "python3",
      "display_name": "Python 3"
    }
  },
  "cells": [
    {
      "cell_type": "markdown",
      "metadata": {
        "id": "view-in-github",
        "colab_type": "text"
      },
      "source": [
        "<a href=\"https://colab.research.google.com/github/vitroid/DelaunayExtrapolation/blob/main/test.ipynb\" target=\"_parent\"><img src=\"https://colab.research.google.com/assets/colab-badge.svg\" alt=\"Open In Colab\"/></a>"
      ]
    },
    {
      "cell_type": "code",
      "metadata": {
        "colab": {
          "base_uri": "https://localhost:8080/"
        },
        "id": "-ZBG6hCslxjj",
        "outputId": "bfad7a79-481a-4ce6-832d-33b58ac216de"
      },
      "source": [
        "!pip install delaunayextrapolation"
      ],
      "execution_count": null,
      "outputs": [
        {
          "output_type": "stream",
          "text": [
            "Collecting delaunayextrapolation\n",
            "  Downloading https://files.pythonhosted.org/packages/28/e9/864ab3727de2e8f11456f4968c8ee96f04edb949f808208c0715e86fdcdb/delaunayextrapolation-0.1-py3-none-any.whl\n",
            "Requirement already satisfied: scipy in /usr/local/lib/python3.6/dist-packages (from delaunayextrapolation) (1.4.1)\n",
            "Requirement already satisfied: numpy>=1.13.3 in /usr/local/lib/python3.6/dist-packages (from scipy->delaunayextrapolation) (1.19.5)\n",
            "Installing collected packages: delaunayextrapolation\n",
            "Successfully installed delaunayextrapolation-0.1\n"
          ],
          "name": "stdout"
        }
      ]
    },
    {
      "cell_type": "code",
      "metadata": {
        "colab": {
          "base_uri": "https://localhost:8080/",
          "height": 265
        },
        "id": "GZ8j-hhUj1Pv",
        "outputId": "a0ec973d-b766-45e2-d3a7-fbb5a5185dbf"
      },
      "source": [
        "from delaunayextrapolation import DelaunayE\n",
        "\n",
        "# 代表点の座標。4つだけ。このサンプルでは、プロットしやすいように2次元にしたが、\n",
        "# まりかの場合には、CGでのcolor chart色24色がここに入る。(3次元)\n",
        "# (Delaunay三角形分割ではなく、空間の四面体分割になる。でもやりかたは同じ)\n",
        "points = np.array([[0, -0.1], [0, 1.1], [1.2, 0], [1, 1]])\n",
        "\n",
        "# 代表点で空間をDelaunay三角形分割\n",
        "tri = DelaunayE(points)\n",
        "\n",
        "# 補間したい、代表点ごとの値。ここでは色(RGB)にしたが、線形補間できるものならなんでもいい。\n",
        "# まりかの場合には、Canonのcolor chart色24色がここに入る。\n",
        "colors = np.array([[0.5, 0.0, 0.0],     #dark red\n",
        "                   [0.0, 0.5, 0.0],     #dark green\n",
        "                   [0.0, 0.0, 0.5],     #dark blue\n",
        "                   [0.9, 0.9, 0.90]])   #90% gray\n",
        "\n",
        "# 0.1間隔で\n",
        "p = []\n",
        "for ix in range(11):\n",
        "    for iy in range(11):\n",
        "        # 補間したい格子点(cg色)\n",
        "        x, y = ix/4-1, iy/4-1\n",
        "        p = np.array([x, y])\n",
        "        # pを含むのはどの三角形か、そしてその中での内挿比は?\n",
        "        v, mix = tri.mixratio(p)\n",
        "        # その比率で、頂点の色を混ぜる。\n",
        "        mixedcolor = mix @ colors[v]\n",
        "        # ↑分かりやすく書くと、\n",
        "        # mixedcolor = mix[0]* colors[v[0]] + mix[1]* colors[v[1]] +mix[0]* colors[v[2]] \n",
        "        # 外挿するとRGBの値の範囲を越える可能性があるので、0〜1を越えたらclip\n",
        "        mixedcolor = np.clip(mixedcolor, 0.0, 1.0)\n",
        "        # mixedcolorは、cg色に対応する、canon色\n",
        "\n",
        "        # 内挿点の散布図 \n",
        "        plt.scatter(x, y, s=50, facecolor=mixedcolor)\n",
        "\n",
        "# Delaunay三角形\n",
        "plt.triplot(points[:,0], points[:,1], tri.simplices)\n",
        "# 代表点\n",
        "plt.scatter(points[:,0], points[:,1], s=150, facecolor=colors)\n",
        "plt.show()"
      ],
      "execution_count": null,
      "outputs": [
        {
          "output_type": "display_data",
          "data": {
            "image/png": "[encoded data removed]",
            "text/plain": [
              "<Figure size 432x288 with 1 Axes>"
            ]
          },
          "metadata": {
            "tags": [],
            "needs_background": "light"
          }
        }
      ]
    },
    {
      "cell_type": "markdown",
      "metadata": {
        "id": "P9xHnmbm06A5"
      },
      "source": [
        "# 以下は開発用\n",
        "\n",
        "与えられた点でDelaunay三角形分割し、それとは別の点を最初の点の混合で表す。\n",
        "\n",
        "https://docs.scipy.org/doc/scipy/reference/generated/scipy.spatial.Delaunay.html の内容をほとんどそのまま使った。"
      ]
    },
    {
      "cell_type": "code",
      "metadata": {
        "colab": {
          "base_uri": "https://localhost:8080/"
        },
        "id": "C3jnru0i0Kc7",
        "outputId": "d3da5d2a-8f2b-4581-e5d5-441e251430df"
      },
      "source": [
        "from scipy.spatial import Delaunay\n",
        "import numpy as np\n",
        "\n",
        "# 代表点。4つだけ。\n",
        "points = np.array([[0, -0.1], [0, 1.1], [1.2, 0], [1, 1]])\n",
        "# 補間したい、代表点ごとの代表色\n",
        "colors = np.array([[0.5, 0.0, 0.0],     #dark red\n",
        "                   [0.0, 0.5, 0.0],     #dark green\n",
        "                   [0.0, 0.0, 0.5],     #dark blue\n",
        "                   [0.3, 0.3, 0.30]])   #30% gray\n",
        "\n",
        "# いきなりDelaunay三角形分割\n",
        "tri = Delaunay(points)\n",
        "tri"
      ],
      "execution_count": null,
      "outputs": [
        {
          "output_type": "execute_result",
          "data": {
            "text/plain": [
              "<scipy.spatial.qhull.Delaunay at 0x7fe0c3f1a898>"
            ]
          },
          "metadata": {
            "tags": []
          },
          "execution_count": 24
        }
      ]
    },
    {
      "cell_type": "markdown",
      "metadata": {
        "id": "GXCOQYTX006u"
      },
      "source": [
        "`tri`の中身を見る。"
      ]
    },
    {
      "cell_type": "code",
      "metadata": {
        "colab": {
          "base_uri": "https://localhost:8080/"
        },
        "id": "DRtcPZtg0i_M",
        "outputId": "48e66f73-2de5-4101-b802-01cfd3b32471"
      },
      "source": [
        "tri.__dict__"
      ],
      "execution_count": null,
      "outputs": [
        {
          "output_type": "execute_result",
          "data": {
            "text/plain": [
              "{'_points': array([[ 0. , -0.1],\n",
              "        [ 0. ,  1.1],\n",
              "        [ 1.2,  0. ],\n",
              "        [ 1. ,  1. ]]),\n",
              " '_qhull': None,\n",
              " '_transform': None,\n",
              " '_vertex_neighbor_vertices': None,\n",
              " '_vertex_to_simplex': None,\n",
              " 'coplanar': array([], shape=(0, 3), dtype=int32),\n",
              " 'equations': array([[ 0.49314377,  0.34383678, -0.79911544,  0.03438368],\n",
              "        [ 0.39322352,  0.44182418, -0.80632913,  0.04418242]]),\n",
              " 'furthest_site': False,\n",
              " 'good': array([1, 1], dtype=int32),\n",
              " 'max_bound': array([1.2, 1.1]),\n",
              " 'min_bound': array([ 0. , -0.1]),\n",
              " 'ndim': 2,\n",
              " 'neighbors': array([[ 1, -1, -1],\n",
              "        [-1,  0, -1]], dtype=int32),\n",
              " 'npoints': 4,\n",
              " 'nsimplex': 2,\n",
              " 'paraboloid_scale': 0.5479452054794519,\n",
              " 'paraboloid_shift': -0.005479452054794521,\n",
              " 'simplices': array([[2, 3, 0],\n",
              "        [3, 1, 0]], dtype=int32),\n",
              " 'vertices': array([[2, 3, 0],\n",
              "        [3, 1, 0]], dtype=int32)}"
            ]
          },
          "metadata": {
            "tags": []
          },
          "execution_count": 25
        }
      ]
    },
    {
      "cell_type": "markdown",
      "metadata": {
        "id": "-KSp3xRj4X0q"
      },
      "source": [
        "三角形を描く。"
      ]
    },
    {
      "cell_type": "code",
      "metadata": {
        "colab": {
          "base_uri": "https://localhost:8080/",
          "height": 265
        },
        "id": "DmgQ6e0_4Z_R",
        "outputId": "76f4cb1f-1969-4902-f6f5-42724ce6dc6b"
      },
      "source": [
        "import matplotlib.pyplot as plt\n",
        "plt.triplot(points[:,0], points[:,1], tri.simplices)\n",
        "plt.scatter(points[:,0], points[:,1], s=100, facecolor=colors)\n",
        "plt.show()"
      ],
      "execution_count": null,
      "outputs": [
        {
          "output_type": "display_data",
          "data": {
            "image/png": "[encoded data removed]",
            "text/plain": [
              "<Figure size 432x288 with 1 Axes>"
            ]
          },
          "metadata": {
            "tags": [],
            "needs_background": "light"
          }
        }
      ]
    },
    {
      "cell_type": "markdown",
      "metadata": {
        "id": "GqtHuWbp3IM2"
      },
      "source": [
        "3つの点が、どの三角形の中にあるかを判定する。"
      ]
    },
    {
      "cell_type": "code",
      "metadata": {
        "colab": {
          "base_uri": "https://localhost:8080/"
        },
        "id": "df47sS4v0p2k",
        "outputId": "784d3d5d-ad5f-45a4-fad5-ffa444269a3f"
      },
      "source": [
        "p = np.array([(0.1, 0.2), (1.5, 0.5), (0.5, 1.05)])\n",
        "tri.find_simplex(p)"
      ],
      "execution_count": null,
      "outputs": [
        {
          "output_type": "execute_result",
          "data": {
            "text/plain": [
              "array([ 1, -1,  1], dtype=int32)"
            ]
          },
          "metadata": {
            "tags": []
          },
          "execution_count": 27
        }
      ]
    },
    {
      "cell_type": "markdown",
      "metadata": {
        "id": "t4Y16O2H3rot"
      },
      "source": [
        "最初と最後の点は三角形1の中にあり、2番目の点はどの三角にも属していない。\n",
        "\n",
        "三角形1の中で、3つの点がどんな位置にあるか(混合比)を求める。"
      ]
    },
    {
      "cell_type": "code",
      "metadata": {
        "colab": {
          "base_uri": "https://localhost:8080/"
        },
        "id": "aLk5WtST3M-_",
        "outputId": "279bca90-3b22-4228-c28c-34efb2e81840"
      },
      "source": [
        "b = tri.transform[1,:2].dot(np.transpose(p - tri.transform[1,2]))\n",
        "np.c_[np.transpose(b), 1 - b.sum(axis=0)]\n"
      ],
      "execution_count": null,
      "outputs": [
        {
          "output_type": "execute_result",
          "data": {
            "text/plain": [
              "array([[ 0.1       ,  0.15833333,  0.74166667],\n",
              "       [ 1.5       , -0.875     ,  0.375     ],\n",
              "       [ 0.5       ,  0.5       ,  0.        ]])"
            ]
          },
          "metadata": {
            "tags": []
          },
          "execution_count": 28
        }
      ]
    },
    {
      "cell_type": "code",
      "metadata": {
        "colab": {
          "base_uri": "https://localhost:8080/",
          "height": 1000
        },
        "id": "5XU3BJjT4C1o",
        "outputId": "90a6916b-5b77-4d75-8099-d14ebad0198d"
      },
      "source": [
        "\n",
        "\n",
        "# 0.1間隔で\n",
        "p = []\n",
        "for ix in range(11):\n",
        "    for iy in range(11):\n",
        "        x, y = ix/10, iy/10\n",
        "        p = np.array([[x, y]])\n",
        "        # 点がどっちの三角形に属するか。\n",
        "        which = tri.find_simplex(p)[0]\n",
        "        b = tri.transform[which,:2].dot(np.transpose(p - tri.transform[which,2]))\n",
        "        # 混合比\n",
        "        mix = np.c_[np.transpose(b), 1 - b.sum(axis=0)][0]\n",
        "        # その三角形を構成する頂点の番号を割りだす。\n",
        "        v = tri.simplices[which]\n",
        "        # \n",
        "        print(which, v, mix)\n",
        "        # その比率で、頂点の色を混ぜる。\n",
        "        # mixedcolor = mix[0]*colors[v[0]] + mix[1]*colors[v[1]] + mix[2]*colors[v[2]]\n",
        "        # simpler expression\n",
        "        mixedcolor = mix @ colors[v]\n",
        "        plt.scatter(x, y, s=50, facecolor=mixedcolor)\n",
        "plt.triplot(points[:,0], points[:,1], tri.simplices)\n",
        "plt.scatter(points[:,0], points[:,1], s=100, facecolor=colors)\n",
        "plt.show()"
      ],
      "execution_count": null,
      "outputs": [
        {
          "output_type": "stream",
          "text": [
            "1 [3 1 0] [0.         0.08333333 0.91666667]\n",
            "1 [3 1 0] [0.         0.16666667 0.83333333]\n",
            "1 [3 1 0] [0.   0.25 0.75]\n",
            "1 [3 1 0] [0.         0.33333333 0.66666667]\n",
            "1 [3 1 0] [0.         0.41666667 0.58333333]\n",
            "1 [3 1 0] [0.  0.5 0.5]\n",
            "1 [3 1 0] [0.         0.58333333 0.41666667]\n",
            "1 [3 1 0] [0.         0.66666667 0.33333333]\n",
            "1 [3 1 0] [0.   0.75 0.25]\n",
            "1 [3 1 0] [0.         0.83333333 0.16666667]\n",
            "1 [3 1 0] [0.         0.91666667 0.08333333]\n",
            "0 [2 3 0] [0.00819672 0.09016393 0.90163934]\n",
            "1 [3 1 0] [0.1   0.075 0.825]\n",
            "1 [3 1 0] [0.1        0.15833333 0.74166667]\n",
            "1 [3 1 0] [0.1        0.24166667 0.65833333]\n",
            "1 [3 1 0] [0.1   0.325 0.575]\n",
            "1 [3 1 0] [0.1        0.40833333 0.49166667]\n",
            "1 [3 1 0] [0.1        0.49166667 0.40833333]\n",
            "1 [3 1 0] [0.1   0.575 0.325]\n",
            "1 [3 1 0] [0.1        0.65833333 0.24166667]\n",
            "1 [3 1 0] [0.1        0.74166667 0.15833333]\n",
            "1 [3 1 0] [0.1   0.825 0.075]\n",
            "0 [2 3 0] [0.09836066 0.08196721 0.81967213]\n",
            "0 [2 3 0] [0.01639344 0.18032787 0.80327869]\n",
            "1 [3 1 0] [0.2        0.06666667 0.73333333]\n",
            "1 [3 1 0] [0.2  0.15 0.65]\n",
            "1 [3 1 0] [0.2        0.23333333 0.56666667]\n",
            "1 [3 1 0] [0.2        0.31666667 0.48333333]\n",
            "1 [3 1 0] [0.2 0.4 0.4]\n",
            "1 [3 1 0] [0.2        0.48333333 0.31666667]\n",
            "1 [3 1 0] [0.2        0.56666667 0.23333333]\n",
            "1 [3 1 0] [0.2  0.65 0.15]\n",
            "1 [3 1 0] [0.2        0.73333333 0.06666667]\n",
            "0 [2 3 0] [0.18852459 0.07377049 0.73770492]\n",
            "0 [2 3 0] [0.10655738 0.17213115 0.72131148]\n",
            "0 [2 3 0] [0.02459016 0.2704918  0.70491803]\n",
            "1 [3 1 0] [0.3        0.05833333 0.64166667]\n",
            "1 [3 1 0] [0.3        0.14166667 0.55833333]\n",
            "1 [3 1 0] [0.3   0.225 0.475]\n",
            "1 [3 1 0] [0.3        0.30833333 0.39166667]\n",
            "1 [3 1 0] [0.3        0.39166667 0.30833333]\n",
            "1 [3 1 0] [0.3   0.475 0.225]\n",
            "1 [3 1 0] [0.3        0.55833333 0.14166667]\n",
            "1 [3 1 0] [0.3        0.64166667 0.05833333]\n",
            "0 [2 3 0] [0.27868852 0.06557377 0.6557377 ]\n",
            "0 [2 3 0] [0.19672131 0.16393443 0.63934426]\n",
            "0 [2 3 0] [0.1147541  0.26229508 0.62295082]\n",
            "0 [2 3 0] [0.03278689 0.36065574 0.60655738]\n",
            "1 [3 1 0] [0.4  0.05 0.55]\n",
            "1 [3 1 0] [0.4        0.13333333 0.46666667]\n",
            "1 [3 1 0] [0.4        0.21666667 0.38333333]\n",
            "1 [3 1 0] [0.4 0.3 0.3]\n",
            "1 [3 1 0] [0.4        0.38333333 0.21666667]\n",
            "1 [3 1 0] [0.4        0.46666667 0.13333333]\n",
            "1 [3 1 0] [0.4  0.55 0.05]\n",
            "0 [2 3 0] [0.36885246 0.05737705 0.57377049]\n",
            "0 [2 3 0] [0.28688525 0.1557377  0.55737705]\n",
            "0 [2 3 0] [0.20491803 0.25409836 0.54098361]\n",
            "0 [2 3 0] [0.12295082 0.35245902 0.52459016]\n",
            "0 [2 3 0] [0.04098361 0.45081967 0.50819672]\n",
            "1 [3 1 0] [0.5        0.04166667 0.45833333]\n",
            "1 [3 1 0] [0.5   0.125 0.375]\n",
            "1 [3 1 0] [0.5        0.20833333 0.29166667]\n",
            "1 [3 1 0] [0.5        0.29166667 0.20833333]\n",
            "1 [3 1 0] [0.5   0.375 0.125]\n",
            "1 [3 1 0] [0.5        0.45833333 0.04166667]\n",
            "0 [2 3 0] [0.45901639 0.04918033 0.49180328]\n",
            "0 [2 3 0] [0.37704918 0.14754098 0.47540984]\n",
            "0 [2 3 0] [0.29508197 0.24590164 0.45901639]\n",
            "0 [2 3 0] [0.21311475 0.3442623  0.44262295]\n",
            "0 [2 3 0] [0.13114754 0.44262295 0.42622951]\n",
            "0 [2 3 0] [0.04918033 0.54098361 0.40983607]\n",
            "1 [3 1 0] [0.6        0.03333333 0.36666667]\n",
            "1 [3 1 0] [0.6        0.11666667 0.28333333]\n",
            "1 [3 1 0] [0.6 0.2 0.2]\n",
            "1 [3 1 0] [0.6        0.28333333 0.11666667]\n",
            "1 [3 1 0] [0.6        0.36666667 0.03333333]\n",
            "0 [2 3 0] [0.54918033 0.04098361 0.40983607]\n",
            "0 [2 3 0] [0.46721311 0.13934426 0.39344262]\n",
            "0 [2 3 0] [0.3852459  0.23770492 0.37704918]\n",
            "0 [2 3 0] [0.30327869 0.33606557 0.36065574]\n",
            "0 [2 3 0] [0.22131148 0.43442623 0.3442623 ]\n",
            "0 [2 3 0] [0.13934426 0.53278689 0.32786885]\n",
            "0 [2 3 0] [0.05737705 0.63114754 0.31147541]\n",
            "1 [3 1 0] [0.7   0.025 0.275]\n",
            "1 [3 1 0] [0.7        0.10833333 0.19166667]\n",
            "1 [3 1 0] [0.7        0.19166667 0.10833333]\n",
            "1 [3 1 0] [0.7   0.275 0.025]\n",
            "0 [2 3 0] [0.63934426 0.03278689 0.32786885]\n",
            "0 [2 3 0] [0.55737705 0.13114754 0.31147541]\n",
            "0 [2 3 0] [0.47540984 0.2295082  0.29508197]\n",
            "0 [2 3 0] [0.39344262 0.32786885 0.27868852]\n",
            "0 [2 3 0] [0.31147541 0.42622951 0.26229508]\n",
            "0 [2 3 0] [0.2295082  0.52459016 0.24590164]\n",
            "0 [2 3 0] [0.14754098 0.62295082 0.2295082 ]\n",
            "0 [2 3 0] [0.06557377 0.72131148 0.21311475]\n",
            "1 [3 1 0] [0.8        0.01666667 0.18333333]\n",
            "1 [3 1 0] [0.8 0.1 0.1]\n",
            "1 [3 1 0] [0.8        0.18333333 0.01666667]\n",
            "0 [2 3 0] [0.7295082  0.02459016 0.24590164]\n",
            "0 [2 3 0] [0.64754098 0.12295082 0.2295082 ]\n",
            "0 [2 3 0] [0.56557377 0.22131148 0.21311475]\n",
            "0 [2 3 0] [0.48360656 0.31967213 0.19672131]\n",
            "0 [2 3 0] [0.40163934 0.41803279 0.18032787]\n",
            "0 [2 3 0] [0.31967213 0.51639344 0.16393443]\n",
            "0 [2 3 0] [0.23770492 0.6147541  0.14754098]\n",
            "0 [2 3 0] [0.1557377  0.71311475 0.13114754]\n",
            "0 [2 3 0] [0.07377049 0.81147541 0.1147541 ]\n",
            "1 [3 1 0] [0.9        0.00833333 0.09166667]\n",
            "1 [3 1 0] [0.9        0.09166667 0.00833333]\n",
            "0 [2 3 0] [0.81967213 0.01639344 0.16393443]\n",
            "0 [2 3 0] [0.73770492 0.1147541  0.14754098]\n",
            "0 [2 3 0] [0.6557377  0.21311475 0.13114754]\n",
            "0 [2 3 0] [0.57377049 0.31147541 0.1147541 ]\n",
            "0 [2 3 0] [0.49180328 0.40983607 0.09836066]\n",
            "0 [2 3 0] [0.40983607 0.50819672 0.08196721]\n",
            "0 [2 3 0] [0.32786885 0.60655738 0.06557377]\n",
            "0 [2 3 0] [0.24590164 0.70491803 0.04918033]\n",
            "0 [2 3 0] [0.16393443 0.80327869 0.03278689]\n",
            "0 [2 3 0] [0.08196721 0.90163934 0.01639344]\n",
            "0 [2 3 0] [1.11022302e-16 1.00000000e+00 0.00000000e+00]\n"
          ],
          "name": "stdout"
        },
        {
          "output_type": "display_data",
          "data": {
            "image/png": "[encoded data removed]",
            "text/plain": [
              "<Figure size 432x288 with 1 Axes>"
            ]
          },
          "metadata": {
            "tags": [],
            "needs_background": "light"
          }
        }
      ]
    },
    {
      "cell_type": "markdown",
      "metadata": {
        "id": "vyf7f0Hs9LUr"
      },
      "source": [
        "内挿はできることがわかった。三次元空間の分割の場合も処理はほぼ同じ。\n",
        "\n",
        "問題は外挿。外挿の場合には、whichが決まらない。一番近い三角形を自力で決めなければいけない。\n",
        "\n",
        "$x^2+y^2$で持ちあげた代表点が作る平面のうち、一番上を通るもの点を使えばいい。24点しかないなら、三角形の数も50個程度なので、網羅的に計算しても問題なかろう。平面の式が与えられていたので、それで自力で計算できると思うぞ。"
      ]
    },
    {
      "cell_type": "code",
      "metadata": {
        "colab": {
          "base_uri": "https://localhost:8080/"
        },
        "id": "GtRxApzm6Zj-",
        "outputId": "a1ffe281-d97e-450c-dcd4-c1de0e0e1946"
      },
      "source": [
        "x,y = points[1,0:2]\n",
        "z = (x**2+y**2)/2\n",
        "v = np.array([x,y,z,1])\n",
        "tri.equations[0] * v, v * tri.equations[1]"
      ],
      "execution_count": null,
      "outputs": [
        {
          "output_type": "execute_result",
          "data": {
            "text/plain": [
              "(array([ 0.        ,  0.37822046, -0.48346484,  0.03438368]),\n",
              " array([ 0.        ,  0.4860066 , -0.48782912,  0.04418242]))"
            ]
          },
          "metadata": {
            "tags": []
          },
          "execution_count": 30
        }
      ]
    },
    {
      "cell_type": "code",
      "metadata": {
        "colab": {
          "base_uri": "https://localhost:8080/"
        },
        "id": "hXZxtSE5AVgT",
        "outputId": "0ef09d08-9b9a-4b36-aec2-7556dbefb215"
      },
      "source": [
        "tri.equations"
      ],
      "execution_count": null,
      "outputs": [
        {
          "output_type": "execute_result",
          "data": {
            "text/plain": [
              "array([[ 0.49314377,  0.34383678, -0.79911544,  0.03438368],\n",
              "       [ 0.39322352,  0.44182418, -0.80632913,  0.04418242]])"
            ]
          },
          "metadata": {
            "tags": []
          },
          "execution_count": 31
        }
      ]
    },
    {
      "cell_type": "markdown",
      "metadata": {
        "id": "lCbF0sWdFxTR"
      },
      "source": [
        "equationsの意味がよくわかっていない。自力で式を生成したほうがてっとりばやい。\n",
        "\n",
        "Delaunayで得られたすべての三角形のもちあげ平面の方程式を書き下す。"
      ]
    },
    {
      "cell_type": "code",
      "metadata": {
        "id": "L1iCbhSHDqMC",
        "colab": {
          "base_uri": "https://localhost:8080/"
        },
        "outputId": "0af95569-bb79-4ec7-bfbf-f12abe92515e"
      },
      "source": [
        "# 次元を上げる。2次元なら3次元にする。\n",
        "pulledup = np.zeros([points.shape[0], points.shape[1]+1])\n",
        "# 2次元まではそのままコピー\n",
        "pulledup[:,:-1] = points\n",
        "# 3次元目には、二乗和を入れる。\n",
        "pulledup[:, -1] = np.sum(pulledup[:]**2, axis=1)\n",
        "# こんな感じ。\n",
        "pulledup"
      ],
      "execution_count": null,
      "outputs": [
        {
          "output_type": "execute_result",
          "data": {
            "text/plain": [
              "array([[ 0.  , -0.1 ,  0.01],\n",
              "       [ 0.  ,  1.1 ,  1.21],\n",
              "       [ 1.2 ,  0.  ,  1.44],\n",
              "       [ 1.  ,  1.  ,  2.  ]])"
            ]
          },
          "metadata": {
            "tags": []
          },
          "execution_count": 32
        }
      ]
    },
    {
      "cell_type": "code",
      "metadata": {
        "colab": {
          "base_uri": "https://localhost:8080/"
        },
        "id": "-vJT5hcdv4s7",
        "outputId": "e738fd87-c5f0-4b5b-9629-08db61d61561"
      },
      "source": [
        "def plane(p):\n",
        "    # ax+by+cz+e=1を満足するabceを求める。\n",
        "    # (x,y,z,1) @ (a,b,c,e) = 1\n",
        "    # pseudo-inverse matrix?\n",
        "    q = np.zeros([p.shape[0], p.shape[1]+1])\n",
        "    q[:,:-1] = p\n",
        "    q[:, -1] = 1\n",
        "    qplus = q.T @ np.linalg.inv(q @ q.T)\n",
        "    abce = qplus @ np.ones(q.shape[0])\n",
        "    # ax+by+cz = 1-e = d\n",
        "    abcd = abce.copy()\n",
        "    abcd[-1] = 1 - abce[-1]\n",
        "    return abcd\n",
        "\n",
        "dimen = points[0].shape[0]\n",
        "planes = np.zeros([len(tri.simplices), dimen+2]) \n",
        "for i, simplex in enumerate(tri.simplices):\n",
        "    # simplexの3点を通る方程式を定める。\n",
        "    # ax+by+cz=d を3つの点のいずれでも満たすようなa,b,c,dを求めたい。\n",
        "    abcd = plane(pulledup[simplex])\n",
        "    planes[i] = abcd\n",
        "\n",
        "# もちあげた平面のうちで、与えられた(x,y)でのz座標が最も高いものをさがす。\n",
        "# ax+by+cz=d; z = (d-ax-by)/c\n",
        "x,y = 0.5, 0.7\n",
        "z = (planes[:, 3] - planes[:, 0]*x - planes[:, 1]*y) / planes[:,2]\n",
        "which = np.argsort(z)[-1]\n",
        "\n",
        "planes\n"
      ],
      "execution_count": null,
      "outputs": [
        {
          "output_type": "execute_result",
          "data": {
            "text/plain": [
              "array([[-0.03446405, -0.02402952,  0.03060127,  0.00270896],\n",
              "       [-0.03491192, -0.03922687,  0.03922687,  0.00431496]])"
            ]
          },
          "metadata": {
            "tags": []
          },
          "execution_count": 60
        }
      ]
    },
    {
      "cell_type": "code",
      "metadata": {
        "id": "ugckNiWcv6O6"
      },
      "source": [
        "'equations': array([[ 0.49314377,  0.34383678, -0.79911544,  0.03438368],\n",
        "        [ 0.39322352,  0.44182418, -0.80632913,  0.04418242]]),\n",
        " "
      ],
      "execution_count": null,
      "outputs": []
    },
    {
      "cell_type": "code",
      "metadata": {
        "colab": {
          "base_uri": "https://localhost:8080/",
          "height": 1000
        },
        "id": "Xz3tRg_eI0tO",
        "outputId": "248e11e9-904e-4e81-97b6-465f02df22e5"
      },
      "source": [
        "\n",
        "\n",
        "# 0.1間隔で\n",
        "p = []\n",
        "for ix in range(11):\n",
        "    for iy in range(11):\n",
        "        x, y = ix/4-1, iy/4-1\n",
        "        p = np.array([[x, y]])\n",
        "        # 点がどっちの三角形に属するか。\n",
        "        z = (planes[:, 3] - planes[:, 0]*x - planes[:, 1]*y) / planes[:,2]\n",
        "        which = np.argsort(z)[-1]\n",
        "        # which = tri.find_simplex(p)[0]\n",
        "        b = tri.transform[which,:2].dot(np.transpose(p - tri.transform[which,2]))\n",
        "        # 混合比\n",
        "        mix = np.c_[np.transpose(b), 1 - b.sum(axis=0)][0]\n",
        "        # その三角形を構成する頂点の番号を割りだす。\n",
        "        v = tri.simplices[which]\n",
        "        # \n",
        "        print(which, v, mix)\n",
        "        # その比率で、頂点の色を混ぜる。\n",
        "        # mixedcolor = mix[0]*colors[v[0]] + mix[1]*colors[v[1]] + mix[2]*colors[v[2]]\n",
        "        # simpler expression\n",
        "        mixedcolor = np.clip(mix @ colors[v], 0.0, 1.0)\n",
        "        plt.scatter(x, y, s=50, facecolor=mixedcolor)\n",
        "plt.triplot(points[:,0], points[:,1], tri.simplices)\n",
        "plt.scatter(points[:,0], points[:,1], s=100, facecolor=colors)\n",
        "plt.show()"
      ],
      "execution_count": null,
      "outputs": [
        {
          "output_type": "stream",
          "text": [
            "1 [3 1 0] [-1.          0.16666667  1.83333333]\n",
            "1 [3 1 0] [-1.     0.375  1.625]\n",
            "1 [3 1 0] [-1.          0.58333333  1.41666667]\n",
            "1 [3 1 0] [-1.          0.79166667  1.20833333]\n",
            "1 [3 1 0] [-1.  1.  1.]\n",
            "1 [3 1 0] [-1.          1.20833333  0.79166667]\n",
            "1 [3 1 0] [-1.          1.41666667  0.58333333]\n",
            "1 [3 1 0] [-1.     1.625  0.375]\n",
            "1 [3 1 0] [-1.          1.83333333  0.16666667]\n",
            "1 [3 1 0] [-1.          2.04166667 -0.04166667]\n",
            "1 [3 1 0] [-1.    2.25 -0.25]\n",
            "0 [2 3 0] [ 0.06147541 -0.82377049  1.76229508]\n",
            "1 [3 1 0] [-0.75        0.14583333  1.60416667]\n",
            "1 [3 1 0] [-0.75        0.35416667  1.39583333]\n",
            "1 [3 1 0] [-0.75    0.5625  1.1875]\n",
            "1 [3 1 0] [-0.75        0.77083333  0.97916667]\n",
            "1 [3 1 0] [-0.75        0.97916667  0.77083333]\n",
            "1 [3 1 0] [-0.75    1.1875  0.5625]\n",
            "1 [3 1 0] [-0.75        1.39583333  0.35416667]\n",
            "1 [3 1 0] [-0.75        1.60416667  0.14583333]\n",
            "1 [3 1 0] [-0.75    1.8125 -0.0625]\n",
            "1 [3 1 0] [-0.75        2.02083333 -0.27083333]\n",
            "0 [2 3 0] [ 0.28688525 -0.8442623   1.55737705]\n",
            "0 [2 3 0] [ 0.08196721 -0.59836066  1.51639344]\n",
            "1 [3 1 0] [-0.5    0.125  1.375]\n",
            "1 [3 1 0] [-0.5         0.33333333  1.16666667]\n",
            "1 [3 1 0] [-0.5         0.54166667  0.95833333]\n",
            "1 [3 1 0] [-0.5   0.75  0.75]\n",
            "1 [3 1 0] [-0.5         0.95833333  0.54166667]\n",
            "1 [3 1 0] [-0.5         1.16666667  0.33333333]\n",
            "1 [3 1 0] [-0.5    1.375  0.125]\n",
            "1 [3 1 0] [-0.5         1.58333333 -0.08333333]\n",
            "1 [3 1 0] [-0.5         1.79166667 -0.29166667]\n",
            "0 [2 3 0] [ 0.51229508 -0.8647541   1.35245902]\n",
            "0 [2 3 0] [ 0.30737705 -0.61885246  1.31147541]\n",
            "0 [2 3 0] [ 0.10245902 -0.37295082  1.2704918 ]\n",
            "1 [3 1 0] [-0.25        0.10416667  1.14583333]\n",
            "1 [3 1 0] [-0.25    0.3125  0.9375]\n",
            "1 [3 1 0] [-0.25        0.52083333  0.72916667]\n",
            "1 [3 1 0] [-0.25        0.72916667  0.52083333]\n",
            "1 [3 1 0] [-0.25    0.9375  0.3125]\n",
            "1 [3 1 0] [-0.25        1.14583333  0.10416667]\n",
            "1 [3 1 0] [-0.25        1.35416667 -0.10416667]\n",
            "1 [3 1 0] [-0.25    1.5625 -0.3125]\n",
            "0 [2 3 0] [ 0.73770492 -0.8852459   1.14754098]\n",
            "0 [2 3 0] [ 0.53278689 -0.63934426  1.10655738]\n",
            "0 [2 3 0] [ 0.32786885 -0.39344262  1.06557377]\n",
            "0 [2 3 0] [ 0.12295082 -0.14754098  1.02459016]\n",
            "1 [3 1 0] [0.         0.08333333 0.91666667]\n",
            "1 [3 1 0] [0.         0.29166667 0.70833333]\n",
            "1 [3 1 0] [0.  0.5 0.5]\n",
            "1 [3 1 0] [0.         0.70833333 0.29166667]\n",
            "1 [3 1 0] [0.         0.91666667 0.08333333]\n",
            "1 [3 1 0] [ 0.     1.125 -0.125]\n",
            "1 [3 1 0] [ 0.          1.33333333 -0.33333333]\n",
            "0 [2 3 0] [ 0.96311475 -0.9057377   0.94262295]\n",
            "0 [2 3 0] [ 0.75819672 -0.65983607  0.90163934]\n",
            "0 [2 3 0] [ 0.55327869 -0.41393443  0.86065574]\n",
            "0 [2 3 0] [ 0.34836066 -0.16803279  0.81967213]\n",
            "0 [2 3 0] [0.14344262 0.07786885 0.77868852]\n",
            "1 [3 1 0] [0.25   0.0625 0.6875]\n",
            "1 [3 1 0] [0.25       0.27083333 0.47916667]\n",
            "1 [3 1 0] [0.25       0.47916667 0.27083333]\n",
            "1 [3 1 0] [0.25   0.6875 0.0625]\n",
            "1 [3 1 0] [ 0.25        0.89583333 -0.14583333]\n",
            "1 [3 1 0] [ 0.25        1.10416667 -0.35416667]\n",
            "0 [2 3 0] [ 1.18852459 -0.92622951  0.73770492]\n",
            "0 [2 3 0] [ 0.98360656 -0.68032787  0.69672131]\n",
            "0 [2 3 0] [ 0.77868852 -0.43442623  0.6557377 ]\n",
            "0 [2 3 0] [ 0.57377049 -0.18852459  0.6147541 ]\n",
            "0 [2 3 0] [0.36885246 0.05737705 0.57377049]\n",
            "0 [2 3 0] [0.16393443 0.30327869 0.53278689]\n",
            "1 [3 1 0] [0.5        0.04166667 0.45833333]\n",
            "1 [3 1 0] [0.5  0.25 0.25]\n",
            "1 [3 1 0] [0.5        0.45833333 0.04166667]\n",
            "1 [3 1 0] [ 0.5         0.66666667 -0.16666667]\n",
            "1 [3 1 0] [ 0.5    0.875 -0.375]\n",
            "0 [2 3 0] [ 1.41393443 -0.94672131  0.53278689]\n",
            "0 [2 3 0] [ 1.20901639 -0.70081967  0.49180328]\n",
            "0 [2 3 0] [ 1.00409836 -0.45491803  0.45081967]\n",
            "0 [2 3 0] [ 0.79918033 -0.20901639  0.40983607]\n",
            "0 [2 3 0] [0.5942623  0.03688525 0.36885246]\n",
            "0 [2 3 0] [0.38934426 0.28278689 0.32786885]\n",
            "0 [2 3 0] [0.18442623 0.52868852 0.28688525]\n",
            "1 [3 1 0] [0.75       0.02083333 0.22916667]\n",
            "1 [3 1 0] [0.75       0.22916667 0.02083333]\n",
            "1 [3 1 0] [ 0.75    0.4375 -0.1875]\n",
            "1 [3 1 0] [ 0.75        0.64583333 -0.39583333]\n",
            "0 [2 3 0] [ 1.63934426 -0.96721311  0.32786885]\n",
            "0 [2 3 0] [ 1.43442623 -0.72131148  0.28688525]\n",
            "0 [2 3 0] [ 1.2295082  -0.47540984  0.24590164]\n",
            "0 [2 3 0] [ 1.02459016 -0.2295082   0.20491803]\n",
            "0 [2 3 0] [0.81967213 0.01639344 0.16393443]\n",
            "0 [2 3 0] [0.6147541  0.26229508 0.12295082]\n",
            "0 [2 3 0] [0.40983607 0.50819672 0.08196721]\n",
            "0 [2 3 0] [0.20491803 0.75409836 0.04098361]\n",
            "1 [3 1 0] [1. 0. 0.]\n",
            "1 [3 1 0] [ 1.          0.20833333 -0.20833333]\n",
            "1 [3 1 0] [ 1.          0.41666667 -0.41666667]\n",
            "0 [2 3 0] [ 1.8647541  -0.98770492  0.12295082]\n",
            "0 [2 3 0] [ 1.65983607 -0.74180328  0.08196721]\n",
            "0 [2 3 0] [ 1.45491803 -0.49590164  0.04098361]\n",
            "0 [2 3 0] [ 1.25000000e+00 -2.50000000e-01 -2.22044605e-16]\n",
            "0 [2 3 0] [ 1.04508197 -0.00409836 -0.04098361]\n",
            "0 [2 3 0] [ 0.84016393  0.24180328 -0.08196721]\n",
            "0 [2 3 0] [ 0.6352459   0.48770492 -0.12295082]\n",
            "0 [2 3 0] [ 0.43032787  0.73360656 -0.16393443]\n",
            "0 [2 3 0] [ 0.22540984  0.9795082  -0.20491803]\n",
            "0 [2 3 0] [ 0.0204918   1.22540984 -0.24590164]\n",
            "1 [3 1 0] [ 1.25    0.1875 -0.4375]\n",
            "0 [2 3 0] [ 2.09016393 -1.00819672 -0.08196721]\n",
            "0 [2 3 0] [ 1.8852459  -0.76229508 -0.12295082]\n",
            "0 [2 3 0] [ 1.68032787 -0.51639344 -0.16393443]\n",
            "0 [2 3 0] [ 1.47540984 -0.2704918  -0.20491803]\n",
            "0 [2 3 0] [ 1.2704918  -0.02459016 -0.24590164]\n",
            "0 [2 3 0] [ 1.06557377  0.22131148 -0.28688525]\n",
            "0 [2 3 0] [ 0.86065574  0.46721311 -0.32786885]\n",
            "0 [2 3 0] [ 0.6557377   0.71311475 -0.36885246]\n",
            "0 [2 3 0] [ 0.45081967  0.95901639 -0.40983607]\n",
            "0 [2 3 0] [ 0.24590164  1.20491803 -0.45081967]\n",
            "0 [2 3 0] [ 0.04098361  1.45081967 -0.49180328]\n"
          ],
          "name": "stdout"
        },
        {
          "output_type": "display_data",
          "data": {
            "image/png": "[encoded data removed]",
            "text/plain": [
              "<Figure size 432x288 with 1 Axes>"
            ]
          },
          "metadata": {
            "tags": [],
            "needs_background": "light"
          }
        }
      ]
    },
    {
      "cell_type": "markdown",
      "metadata": {
        "id": "pSEiWhbZMPjC"
      },
      "source": [
        "できた。これをパッケージングする。"
      ]
    },
    {
      "cell_type": "code",
      "metadata": {
        "colab": {
          "base_uri": "https://localhost:8080/",
          "height": 1000
        },
        "id": "i_VaJnPdLh4C",
        "outputId": "6be6834f-11cc-40cf-985b-8a2ff23b52ed"
      },
      "source": [
        "from scipy.spatial import Delaunay\n",
        "import numpy as np\n",
        "\n",
        "def plane(p):\n",
        "    # ax+by+cz+e=1を満足するabceを求める。\n",
        "    # (x,y,z,1) @ (a,b,c,e) = 1\n",
        "    # pseudo-inverse matrix?\n",
        "    q = np.zeros([p.shape[0], p.shape[1]+1])\n",
        "    q[:,:-1] = p\n",
        "    q[:, -1] = 1\n",
        "    qplus = q.T @ np.linalg.inv(q @ q.T)\n",
        "    abce = qplus @ np.ones(q.shape[0])\n",
        "    # ax+by+cz = 1-e = d\n",
        "    abcd = abce.copy()\n",
        "    abcd[-1] = 1 - abce[-1]\n",
        "    return abcd\n",
        "\n",
        "\n",
        "class DelaunayE(Delaunay):\n",
        "    def __init__(self, *args, **kwarg):\n",
        "        super().__init__(*args, **kwarg)\n",
        "        # 次元を上げる。2次元なら3次元にする。\n",
        "        pulledup = np.zeros([self._points.shape[0], self._points.shape[1]+1])\n",
        "        # 2次元まではそのままコピー\n",
        "        pulledup[:,:-1] = self._points\n",
        "        # 3次元目には、二乗和を入れる。\n",
        "        pulledup[:, -1] = np.sum(pulledup[:]**2, axis=1)        \n",
        "\n",
        "        self.planes = np.zeros([self.nsimplex, self.ndim+2]) \n",
        "        for i, simplex in enumerate(self.simplices):\n",
        "            # simplexの3点を通る方程式を定める。\n",
        "            # ax+by+cz=d を3つの点のいずれでも満たすようなa,b,c,dを求めたい。\n",
        "            abcd = plane(pulledup[simplex])\n",
        "            self.planes[i] = abcd\n",
        "\n",
        "    def extrapolate_simplex(self, p):\n",
        "        z = (self.planes[:, -1] - self.planes[:, :-2] @ p) / self.planes[:,-2]\n",
        "        which = np.argmax(z)\n",
        "        return which\n",
        "\n",
        "    def mixratio(self, p):\n",
        "        which = self.extrapolate_simplex(p)\n",
        "        # choose the first vertex of the simplex as the origin\n",
        "        origin = self._points[self.simplices[which][0]]\n",
        "        # position of p relative to origin\n",
        "        pp = p - origin\n",
        "        # relative positions of the vextices of the simplex\n",
        "        ps = self._points[self.simplices[which][1:]] - origin\n",
        "        ratio = np.zeros(self.ndim+1)\n",
        "        ratio[1:] = pp @ np.linalg.inv(ps)\n",
        "        ratio[0]  = 1 - np.sum(ratio[1:])\n",
        "        return self.simplices[which], ratio\n",
        "\n",
        "    def extrapolate_simplices(self, p):\n",
        "        \"\"\"\n",
        "        pは2次元の点の集合.\n",
        "        その点からz方向にもちあげて、最も上で交差する平面の集合を返す。\n",
        "        \"\"\"\n",
        "        print(self.planes[:, :-2].shape, p.T.shape)\n",
        "        A = self.planes[:, :-2] @ p.T\n",
        "        print(A)\n",
        "        B = self.planes[:, -1] - A.T\n",
        "        z = B / self.planes[:,-2]\n",
        "        which = np.argmax(z, axis=1)\n",
        "        print(which)\n",
        "        return which\n",
        "\n",
        "    def mixratios(self, p):\n",
        "        which = self.extrapolate_simplices(p)\n",
        "        #それぞれのsimplexでoriginを定める。\n",
        "        origins = self._points[self.simplices[:,0]]\n",
        "        print(origins)\n",
        "        ps = np.zeros([self.nsimplex, self.ndim, self.ndim])\n",
        "        for i in range(self.ndim):\n",
        "            ps[:, i, :] = self._points[self.simplices[:,i+1]] - origins\n",
        "        psi = np.zeros_like(ps)\n",
        "        for i in range(self.nsimplex):\n",
        "            psi[i] = np.linalg.inv(ps[i])\n",
        "        print(psi.shape)\n",
        "        # position of p relative to origin\n",
        "        pp = p - origins[which]\n",
        "        # relative positions of the vextices of the simplex\n",
        "        ratio = np.zeros([p.shape[0], self.ndim+1])\n",
        "        for i in range(p.shape[0]):\n",
        "            ratio[i, 1:] = pp[i] @ psi[which[i]]\n",
        "        ratio[:, 0]  = 1 - np.sum(ratio[:, 1:], axis=1)\n",
        "        return self.simplices[which], ratio\n",
        "\n",
        "\n",
        "import matplotlib.pyplot as plt\n",
        "\n",
        "# 代表点。4つだけ。\n",
        "points = np.array([[0, -0.1], [0, 1.1], [1.2, 0], [1, 1]])\n",
        "# 補間したい、代表点ごとの代表色\n",
        "colors = np.array([[0.5, 0.0, 0.0],     #dark red\n",
        "                   [0.0, 0.5, 0.0],     #dark green\n",
        "                   [0.0, 0.0, 0.5],     #dark blue\n",
        "                   [0.1, 0.2, 0.3]])   #90% gray\n",
        "\n",
        "# いきなりDelaunay三角形分割\n",
        "tri = DelaunayE(points)\n",
        "\n",
        "#まとめて内挿したい。\n",
        "# 0.1間隔で\n",
        "p = []\n",
        "for ix in range(11):\n",
        "    for iy in range(11):\n",
        "        x, y = ix/4-1, iy/4-1\n",
        "        p.append([x,y])\n",
        "\n",
        "p = np.array(p)\n",
        "# どの三角形か、その中の内挿比\n",
        "v, mix = tri.mixratios(p)\n",
        "print(v, p, mix)\n",
        "# 一応書けたものの、ループが残っているし、あとの処理も簡単にならないので、\n",
        "# pをまとめて与えるタイプの関数は提供しない。ここに記録だけ残しておくか、一応gitにも上げるか。\n"
      ],
      "execution_count": 37,
      "outputs": [
        {
          "output_type": "stream",
          "text": [
            "(2, 2) (2, 121)\n",
            "[[ 0.05849357  0.05248619  0.04647881  0.04047143  0.03446405  0.02845667\n",
            "   0.02244929  0.01644191  0.01043453  0.00442715 -0.00158023  0.04987756\n",
            "   0.04387018  0.0378628   0.03185542  0.02584804  0.01984066  0.01383328\n",
            "   0.0078259   0.00181852 -0.00418886 -0.01019624  0.04126155  0.03525417\n",
            "   0.02924679  0.02323941  0.01723203  0.01122465  0.00521727 -0.00079011\n",
            "  -0.00679749 -0.01280487 -0.01881225  0.03264553  0.02663815  0.02063077\n",
            "   0.01462339  0.00861601  0.00260863 -0.00339875 -0.00940613 -0.01541351\n",
            "  -0.02142089 -0.02742827  0.02402952  0.01802214  0.01201476  0.00600738\n",
            "   0.         -0.00600738 -0.01201476 -0.01802214 -0.02402952 -0.0300369\n",
            "  -0.03604428  0.01541351  0.00940613  0.00339875 -0.00260863 -0.00861601\n",
            "  -0.01462339 -0.02063077 -0.02663815 -0.03264553 -0.03865291 -0.04466029\n",
            "   0.00679749  0.00079011 -0.00521727 -0.01122465 -0.01723203 -0.02323941\n",
            "  -0.02924679 -0.03525417 -0.04126155 -0.04726893 -0.05327631 -0.00181852\n",
            "  -0.0078259  -0.01383328 -0.01984066 -0.02584804 -0.03185542 -0.0378628\n",
            "  -0.04387018 -0.04987756 -0.05588494 -0.06189232 -0.01043453 -0.01644191\n",
            "  -0.02244929 -0.02845667 -0.03446405 -0.04047143 -0.04647881 -0.05248619\n",
            "  -0.05849357 -0.06450095 -0.07050833 -0.01905054 -0.02505792 -0.0310653\n",
            "  -0.03707268 -0.04308006 -0.04908744 -0.05509482 -0.0611022  -0.06710958\n",
            "  -0.07311696 -0.07912434 -0.02766656 -0.03367394 -0.03968132 -0.0456887\n",
            "  -0.05169608 -0.05770346 -0.06371084 -0.06971822 -0.0757256  -0.08173298\n",
            "  -0.08774036]\n",
            " [ 0.07413879  0.06433207  0.05452535  0.04471864  0.03491192  0.0251052\n",
            "   0.01529848  0.00549176 -0.00431496 -0.01412167 -0.02392839  0.06541081\n",
            "   0.05560409  0.04579738  0.03599066  0.02618394  0.01637722  0.0065705\n",
            "  -0.00323622 -0.01304294 -0.02284965 -0.03265637  0.05668283  0.04687611\n",
            "   0.0370694   0.02726268  0.01745596  0.00764924 -0.00215748 -0.0119642\n",
            "  -0.02177092 -0.03157763 -0.04138435  0.04795485  0.03814813  0.02834142\n",
            "   0.0185347   0.00872798 -0.00107874 -0.01088546 -0.02069218 -0.03049889\n",
            "  -0.04030561 -0.05011233  0.03922687  0.02942016  0.01961344  0.00980672\n",
            "   0.         -0.00980672 -0.01961344 -0.02942016 -0.03922687 -0.04903359\n",
            "  -0.05884031  0.03049889  0.02069218  0.01088546  0.00107874 -0.00872798\n",
            "  -0.0185347  -0.02834142 -0.03814813 -0.04795485 -0.05776157 -0.06756829\n",
            "   0.02177092  0.0119642   0.00215748 -0.00764924 -0.01745596 -0.02726268\n",
            "  -0.0370694  -0.04687611 -0.05668283 -0.06648955 -0.07629627  0.01304294\n",
            "   0.00323622 -0.0065705  -0.01637722 -0.02618394 -0.03599066 -0.04579738\n",
            "  -0.05560409 -0.06541081 -0.07521753 -0.08502425  0.00431496 -0.00549176\n",
            "  -0.01529848 -0.0251052  -0.03491192 -0.04471864 -0.05452535 -0.06433207\n",
            "  -0.07413879 -0.08394551 -0.09375223 -0.00441302 -0.01421974 -0.02402646\n",
            "  -0.03383318 -0.0436399  -0.05344662 -0.06325333 -0.07306005 -0.08286677\n",
            "  -0.09267349 -0.10248021 -0.013141   -0.02294772 -0.03275444 -0.04256116\n",
            "  -0.05236788 -0.0621746  -0.07198131 -0.08178803 -0.09159475 -0.10140147\n",
            "  -0.11120819]]\n",
            "[1 1 1 1 1 1 1 1 1 1 1 0 1 1 1 1 1 1 1 1 1 1 0 0 1 1 1 1 1 1 1 1 1 0 0 0 1\n",
            " 1 1 1 1 1 1 1 0 0 0 0 1 1 1 1 1 1 1 0 0 0 0 0 1 1 1 1 1 1 0 0 0 0 0 0 1 1\n",
            " 1 1 1 0 0 0 0 0 0 0 1 1 1 1 0 0 0 0 0 0 0 0 1 1 1 0 0 0 0 0 0 0 0 0 0 1 0\n",
            " 0 0 0 0 0 0 0 0 0 0]\n",
            "[[1.2 0. ]\n",
            " [1.  1. ]]\n",
            "(2, 2, 2)\n",
            "[[3 1 0]\n",
            " [3 1 0]\n",
            " [3 1 0]\n",
            " [3 1 0]\n",
            " [3 1 0]\n",
            " [3 1 0]\n",
            " [3 1 0]\n",
            " [3 1 0]\n",
            " [3 1 0]\n",
            " [3 1 0]\n",
            " [3 1 0]\n",
            " [2 3 0]\n",
            " [3 1 0]\n",
            " [3 1 0]\n",
            " [3 1 0]\n",
            " [3 1 0]\n",
            " [3 1 0]\n",
            " [3 1 0]\n",
            " [3 1 0]\n",
            " [3 1 0]\n",
            " [3 1 0]\n",
            " [3 1 0]\n",
            " [2 3 0]\n",
            " [2 3 0]\n",
            " [3 1 0]\n",
            " [3 1 0]\n",
            " [3 1 0]\n",
            " [3 1 0]\n",
            " [3 1 0]\n",
            " [3 1 0]\n",
            " [3 1 0]\n",
            " [3 1 0]\n",
            " [3 1 0]\n",
            " [2 3 0]\n",
            " [2 3 0]\n",
            " [2 3 0]\n",
            " [3 1 0]\n",
            " [3 1 0]\n",
            " [3 1 0]\n",
            " [3 1 0]\n",
            " [3 1 0]\n",
            " [3 1 0]\n",
            " [3 1 0]\n",
            " [3 1 0]\n",
            " [2 3 0]\n",
            " [2 3 0]\n",
            " [2 3 0]\n",
            " [2 3 0]\n",
            " [3 1 0]\n",
            " [3 1 0]\n",
            " [3 1 0]\n",
            " [3 1 0]\n",
            " [3 1 0]\n",
            " [3 1 0]\n",
            " [3 1 0]\n",
            " [2 3 0]\n",
            " [2 3 0]\n",
            " [2 3 0]\n",
            " [2 3 0]\n",
            " [2 3 0]\n",
            " [3 1 0]\n",
            " [3 1 0]\n",
            " [3 1 0]\n",
            " [3 1 0]\n",
            " [3 1 0]\n",
            " [3 1 0]\n",
            " [2 3 0]\n",
            " [2 3 0]\n",
            " [2 3 0]\n",
            " [2 3 0]\n",
            " [2 3 0]\n",
            " [2 3 0]\n",
            " [3 1 0]\n",
            " [3 1 0]\n",
            " [3 1 0]\n",
            " [3 1 0]\n",
            " [3 1 0]\n",
            " [2 3 0]\n",
            " [2 3 0]\n",
            " [2 3 0]\n",
            " [2 3 0]\n",
            " [2 3 0]\n",
            " [2 3 0]\n",
            " [2 3 0]\n",
            " [3 1 0]\n",
            " [3 1 0]\n",
            " [3 1 0]\n",
            " [3 1 0]\n",
            " [2 3 0]\n",
            " [2 3 0]\n",
            " [2 3 0]\n",
            " [2 3 0]\n",
            " [2 3 0]\n",
            " [2 3 0]\n",
            " [2 3 0]\n",
            " [2 3 0]\n",
            " [3 1 0]\n",
            " [3 1 0]\n",
            " [3 1 0]\n",
            " [2 3 0]\n",
            " [2 3 0]\n",
            " [2 3 0]\n",
            " [2 3 0]\n",
            " [2 3 0]\n",
            " [2 3 0]\n",
            " [2 3 0]\n",
            " [2 3 0]\n",
            " [2 3 0]\n",
            " [2 3 0]\n",
            " [3 1 0]\n",
            " [2 3 0]\n",
            " [2 3 0]\n",
            " [2 3 0]\n",
            " [2 3 0]\n",
            " [2 3 0]\n",
            " [2 3 0]\n",
            " [2 3 0]\n",
            " [2 3 0]\n",
            " [2 3 0]\n",
            " [2 3 0]\n",
            " [2 3 0]] [[-1.   -1.  ]\n",
            " [-1.   -0.75]\n",
            " [-1.   -0.5 ]\n",
            " [-1.   -0.25]\n",
            " [-1.    0.  ]\n",
            " [-1.    0.25]\n",
            " [-1.    0.5 ]\n",
            " [-1.    0.75]\n",
            " [-1.    1.  ]\n",
            " [-1.    1.25]\n",
            " [-1.    1.5 ]\n",
            " [-0.75 -1.  ]\n",
            " [-0.75 -0.75]\n",
            " [-0.75 -0.5 ]\n",
            " [-0.75 -0.25]\n",
            " [-0.75  0.  ]\n",
            " [-0.75  0.25]\n",
            " [-0.75  0.5 ]\n",
            " [-0.75  0.75]\n",
            " [-0.75  1.  ]\n",
            " [-0.75  1.25]\n",
            " [-0.75  1.5 ]\n",
            " [-0.5  -1.  ]\n",
            " [-0.5  -0.75]\n",
            " [-0.5  -0.5 ]\n",
            " [-0.5  -0.25]\n",
            " [-0.5   0.  ]\n",
            " [-0.5   0.25]\n",
            " [-0.5   0.5 ]\n",
            " [-0.5   0.75]\n",
            " [-0.5   1.  ]\n",
            " [-0.5   1.25]\n",
            " [-0.5   1.5 ]\n",
            " [-0.25 -1.  ]\n",
            " [-0.25 -0.75]\n",
            " [-0.25 -0.5 ]\n",
            " [-0.25 -0.25]\n",
            " [-0.25  0.  ]\n",
            " [-0.25  0.25]\n",
            " [-0.25  0.5 ]\n",
            " [-0.25  0.75]\n",
            " [-0.25  1.  ]\n",
            " [-0.25  1.25]\n",
            " [-0.25  1.5 ]\n",
            " [ 0.   -1.  ]\n",
            " [ 0.   -0.75]\n",
            " [ 0.   -0.5 ]\n",
            " [ 0.   -0.25]\n",
            " [ 0.    0.  ]\n",
            " [ 0.    0.25]\n",
            " [ 0.    0.5 ]\n",
            " [ 0.    0.75]\n",
            " [ 0.    1.  ]\n",
            " [ 0.    1.25]\n",
            " [ 0.    1.5 ]\n",
            " [ 0.25 -1.  ]\n",
            " [ 0.25 -0.75]\n",
            " [ 0.25 -0.5 ]\n",
            " [ 0.25 -0.25]\n",
            " [ 0.25  0.  ]\n",
            " [ 0.25  0.25]\n",
            " [ 0.25  0.5 ]\n",
            " [ 0.25  0.75]\n",
            " [ 0.25  1.  ]\n",
            " [ 0.25  1.25]\n",
            " [ 0.25  1.5 ]\n",
            " [ 0.5  -1.  ]\n",
            " [ 0.5  -0.75]\n",
            " [ 0.5  -0.5 ]\n",
            " [ 0.5  -0.25]\n",
            " [ 0.5   0.  ]\n",
            " [ 0.5   0.25]\n",
            " [ 0.5   0.5 ]\n",
            " [ 0.5   0.75]\n",
            " [ 0.5   1.  ]\n",
            " [ 0.5   1.25]\n",
            " [ 0.5   1.5 ]\n",
            " [ 0.75 -1.  ]\n",
            " [ 0.75 -0.75]\n",
            " [ 0.75 -0.5 ]\n",
            " [ 0.75 -0.25]\n",
            " [ 0.75  0.  ]\n",
            " [ 0.75  0.25]\n",
            " [ 0.75  0.5 ]\n",
            " [ 0.75  0.75]\n",
            " [ 0.75  1.  ]\n",
            " [ 0.75  1.25]\n",
            " [ 0.75  1.5 ]\n",
            " [ 1.   -1.  ]\n",
            " [ 1.   -0.75]\n",
            " [ 1.   -0.5 ]\n",
            " [ 1.   -0.25]\n",
            " [ 1.    0.  ]\n",
            " [ 1.    0.25]\n",
            " [ 1.    0.5 ]\n",
            " [ 1.    0.75]\n",
            " [ 1.    1.  ]\n",
            " [ 1.    1.25]\n",
            " [ 1.    1.5 ]\n",
            " [ 1.25 -1.  ]\n",
            " [ 1.25 -0.75]\n",
            " [ 1.25 -0.5 ]\n",
            " [ 1.25 -0.25]\n",
            " [ 1.25  0.  ]\n",
            " [ 1.25  0.25]\n",
            " [ 1.25  0.5 ]\n",
            " [ 1.25  0.75]\n",
            " [ 1.25  1.  ]\n",
            " [ 1.25  1.25]\n",
            " [ 1.25  1.5 ]\n",
            " [ 1.5  -1.  ]\n",
            " [ 1.5  -0.75]\n",
            " [ 1.5  -0.5 ]\n",
            " [ 1.5  -0.25]\n",
            " [ 1.5   0.  ]\n",
            " [ 1.5   0.25]\n",
            " [ 1.5   0.5 ]\n",
            " [ 1.5   0.75]\n",
            " [ 1.5   1.  ]\n",
            " [ 1.5   1.25]\n",
            " [ 1.5   1.5 ]] [[-1.00000000e+00  1.66666667e-01  1.83333333e+00]\n",
            " [-1.00000000e+00  3.75000000e-01  1.62500000e+00]\n",
            " [-1.00000000e+00  5.83333333e-01  1.41666667e+00]\n",
            " [-1.00000000e+00  7.91666667e-01  1.20833333e+00]\n",
            " [-1.00000000e+00  1.00000000e+00  1.00000000e+00]\n",
            " [-1.00000000e+00  1.20833333e+00  7.91666667e-01]\n",
            " [-1.00000000e+00  1.41666667e+00  5.83333333e-01]\n",
            " [-1.00000000e+00  1.62500000e+00  3.75000000e-01]\n",
            " [-1.00000000e+00  1.83333333e+00  1.66666667e-01]\n",
            " [-1.00000000e+00  2.04166667e+00 -4.16666667e-02]\n",
            " [-1.00000000e+00  2.25000000e+00 -2.50000000e-01]\n",
            " [ 6.14754098e-02 -8.23770492e-01  1.76229508e+00]\n",
            " [-7.50000000e-01  1.45833333e-01  1.60416667e+00]\n",
            " [-7.50000000e-01  3.54166667e-01  1.39583333e+00]\n",
            " [-7.50000000e-01  5.62500000e-01  1.18750000e+00]\n",
            " [-7.50000000e-01  7.70833333e-01  9.79166667e-01]\n",
            " [-7.50000000e-01  9.79166667e-01  7.70833333e-01]\n",
            " [-7.50000000e-01  1.18750000e+00  5.62500000e-01]\n",
            " [-7.50000000e-01  1.39583333e+00  3.54166667e-01]\n",
            " [-7.50000000e-01  1.60416667e+00  1.45833333e-01]\n",
            " [-7.50000000e-01  1.81250000e+00 -6.25000000e-02]\n",
            " [-7.50000000e-01  2.02083333e+00 -2.70833333e-01]\n",
            " [ 2.86885246e-01 -8.44262295e-01  1.55737705e+00]\n",
            " [ 8.19672131e-02 -5.98360656e-01  1.51639344e+00]\n",
            " [-5.00000000e-01  1.25000000e-01  1.37500000e+00]\n",
            " [-5.00000000e-01  3.33333333e-01  1.16666667e+00]\n",
            " [-5.00000000e-01  5.41666667e-01  9.58333333e-01]\n",
            " [-5.00000000e-01  7.50000000e-01  7.50000000e-01]\n",
            " [-5.00000000e-01  9.58333333e-01  5.41666667e-01]\n",
            " [-5.00000000e-01  1.16666667e+00  3.33333333e-01]\n",
            " [-5.00000000e-01  1.37500000e+00  1.25000000e-01]\n",
            " [-5.00000000e-01  1.58333333e+00 -8.33333333e-02]\n",
            " [-5.00000000e-01  1.79166667e+00 -2.91666667e-01]\n",
            " [ 5.12295082e-01 -8.64754098e-01  1.35245902e+00]\n",
            " [ 3.07377049e-01 -6.18852459e-01  1.31147541e+00]\n",
            " [ 1.02459016e-01 -3.72950820e-01  1.27049180e+00]\n",
            " [-2.50000000e-01  1.04166667e-01  1.14583333e+00]\n",
            " [-2.50000000e-01  3.12500000e-01  9.37500000e-01]\n",
            " [-2.50000000e-01  5.20833333e-01  7.29166667e-01]\n",
            " [-2.50000000e-01  7.29166667e-01  5.20833333e-01]\n",
            " [-2.50000000e-01  9.37500000e-01  3.12500000e-01]\n",
            " [-2.50000000e-01  1.14583333e+00  1.04166667e-01]\n",
            " [-2.50000000e-01  1.35416667e+00 -1.04166667e-01]\n",
            " [-2.50000000e-01  1.56250000e+00 -3.12500000e-01]\n",
            " [ 7.37704918e-01 -8.85245902e-01  1.14754098e+00]\n",
            " [ 5.32786885e-01 -6.39344262e-01  1.10655738e+00]\n",
            " [ 3.27868852e-01 -3.93442623e-01  1.06557377e+00]\n",
            " [ 1.22950820e-01 -1.47540984e-01  1.02459016e+00]\n",
            " [ 0.00000000e+00  8.33333333e-02  9.16666667e-01]\n",
            " [ 0.00000000e+00  2.91666667e-01  7.08333333e-01]\n",
            " [ 0.00000000e+00  5.00000000e-01  5.00000000e-01]\n",
            " [ 0.00000000e+00  7.08333333e-01  2.91666667e-01]\n",
            " [ 0.00000000e+00  9.16666667e-01  8.33333333e-02]\n",
            " [ 0.00000000e+00  1.12500000e+00 -1.25000000e-01]\n",
            " [ 0.00000000e+00  1.33333333e+00 -3.33333333e-01]\n",
            " [ 9.63114754e-01 -9.05737705e-01  9.42622951e-01]\n",
            " [ 7.58196721e-01 -6.59836066e-01  9.01639344e-01]\n",
            " [ 5.53278689e-01 -4.13934426e-01  8.60655738e-01]\n",
            " [ 3.48360656e-01 -1.68032787e-01  8.19672131e-01]\n",
            " [ 1.43442623e-01  7.78688525e-02  7.78688525e-01]\n",
            " [ 2.50000000e-01  6.25000000e-02  6.87500000e-01]\n",
            " [ 2.50000000e-01  2.70833333e-01  4.79166667e-01]\n",
            " [ 2.50000000e-01  4.79166667e-01  2.70833333e-01]\n",
            " [ 2.50000000e-01  6.87500000e-01  6.25000000e-02]\n",
            " [ 2.50000000e-01  8.95833333e-01 -1.45833333e-01]\n",
            " [ 2.50000000e-01  1.10416667e+00 -3.54166667e-01]\n",
            " [ 1.18852459e+00 -9.26229508e-01  7.37704918e-01]\n",
            " [ 9.83606557e-01 -6.80327869e-01  6.96721311e-01]\n",
            " [ 7.78688525e-01 -4.34426230e-01  6.55737705e-01]\n",
            " [ 5.73770492e-01 -1.88524590e-01  6.14754098e-01]\n",
            " [ 3.68852459e-01  5.73770492e-02  5.73770492e-01]\n",
            " [ 1.63934426e-01  3.03278689e-01  5.32786885e-01]\n",
            " [ 5.00000000e-01  4.16666667e-02  4.58333333e-01]\n",
            " [ 5.00000000e-01  2.50000000e-01  2.50000000e-01]\n",
            " [ 5.00000000e-01  4.58333333e-01  4.16666667e-02]\n",
            " [ 5.00000000e-01  6.66666667e-01 -1.66666667e-01]\n",
            " [ 5.00000000e-01  8.75000000e-01 -3.75000000e-01]\n",
            " [ 1.41393443e+00 -9.46721311e-01  5.32786885e-01]\n",
            " [ 1.20901639e+00 -7.00819672e-01  4.91803279e-01]\n",
            " [ 1.00409836e+00 -4.54918033e-01  4.50819672e-01]\n",
            " [ 7.99180328e-01 -2.09016393e-01  4.09836066e-01]\n",
            " [ 5.94262295e-01  3.68852459e-02  3.68852459e-01]\n",
            " [ 3.89344262e-01  2.82786885e-01  3.27868852e-01]\n",
            " [ 1.84426230e-01  5.28688525e-01  2.86885246e-01]\n",
            " [ 7.50000000e-01  2.08333333e-02  2.29166667e-01]\n",
            " [ 7.50000000e-01  2.29166667e-01  2.08333333e-02]\n",
            " [ 7.50000000e-01  4.37500000e-01 -1.87500000e-01]\n",
            " [ 7.50000000e-01  6.45833333e-01 -3.95833333e-01]\n",
            " [ 1.63934426e+00 -9.67213115e-01  3.27868852e-01]\n",
            " [ 1.43442623e+00 -7.21311475e-01  2.86885246e-01]\n",
            " [ 1.22950820e+00 -4.75409836e-01  2.45901639e-01]\n",
            " [ 1.02459016e+00 -2.29508197e-01  2.04918033e-01]\n",
            " [ 8.19672131e-01  1.63934426e-02  1.63934426e-01]\n",
            " [ 6.14754098e-01  2.62295082e-01  1.22950820e-01]\n",
            " [ 4.09836066e-01  5.08196721e-01  8.19672131e-02]\n",
            " [ 2.04918033e-01  7.54098361e-01  4.09836066e-02]\n",
            " [ 1.00000000e+00  0.00000000e+00  0.00000000e+00]\n",
            " [ 1.00000000e+00  2.08333333e-01 -2.08333333e-01]\n",
            " [ 1.00000000e+00  4.16666667e-01 -4.16666667e-01]\n",
            " [ 1.86475410e+00 -9.87704918e-01  1.22950820e-01]\n",
            " [ 1.65983607e+00 -7.41803279e-01  8.19672131e-02]\n",
            " [ 1.45491803e+00 -4.95901639e-01  4.09836066e-02]\n",
            " [ 1.25000000e+00 -2.50000000e-01 -4.16333634e-17]\n",
            " [ 1.04508197e+00 -4.09836066e-03 -4.09836066e-02]\n",
            " [ 8.40163934e-01  2.41803279e-01 -8.19672131e-02]\n",
            " [ 6.35245902e-01  4.87704918e-01 -1.22950820e-01]\n",
            " [ 4.30327869e-01  7.33606557e-01 -1.63934426e-01]\n",
            " [ 2.25409836e-01  9.79508197e-01 -2.04918033e-01]\n",
            " [ 2.04918033e-02  1.22540984e+00 -2.45901639e-01]\n",
            " [ 1.25000000e+00  1.87500000e-01 -4.37500000e-01]\n",
            " [ 2.09016393e+00 -1.00819672e+00 -8.19672131e-02]\n",
            " [ 1.88524590e+00 -7.62295082e-01 -1.22950820e-01]\n",
            " [ 1.68032787e+00 -5.16393443e-01 -1.63934426e-01]\n",
            " [ 1.47540984e+00 -2.70491803e-01 -2.04918033e-01]\n",
            " [ 1.27049180e+00 -2.45901639e-02 -2.45901639e-01]\n",
            " [ 1.06557377e+00  2.21311475e-01 -2.86885246e-01]\n",
            " [ 8.60655738e-01  4.67213115e-01 -3.27868852e-01]\n",
            " [ 6.55737705e-01  7.13114754e-01 -3.68852459e-01]\n",
            " [ 4.50819672e-01  9.59016393e-01 -4.09836066e-01]\n",
            " [ 2.45901639e-01  1.20491803e+00 -4.50819672e-01]\n",
            " [ 4.09836066e-02  1.45081967e+00 -4.91803279e-01]]\n"
          ],
          "name": "stdout"
        },
        {
          "output_type": "error",
          "ename": "ValueError",
          "evalue": "ignored",
          "traceback": [
            "\u001b[0;31m---------------------------------------------------------------------------\u001b[0m",
            "\u001b[0;31mValueError\u001b[0m                                Traceback (most recent call last)",
            "\u001b[0;32m<ipython-input-37-90294f8ebf2b>\u001b[0m in \u001b[0;36m<module>\u001b[0;34m()\u001b[0m\n\u001b[1;32m    114\u001b[0m \u001b[0mprint\u001b[0m\u001b[0;34m(\u001b[0m\u001b[0mv\u001b[0m\u001b[0;34m,\u001b[0m \u001b[0mp\u001b[0m\u001b[0;34m,\u001b[0m \u001b[0mmix\u001b[0m\u001b[0;34m)\u001b[0m\u001b[0;34m\u001b[0m\u001b[0;34m\u001b[0m\u001b[0m\n\u001b[1;32m    115\u001b[0m \u001b[0;31m# その比率で、頂点の色を混ぜる。\u001b[0m\u001b[0;34m\u001b[0m\u001b[0;34m\u001b[0m\u001b[0;34m\u001b[0m\u001b[0m\n\u001b[0;32m--> 116\u001b[0;31m \u001b[0mmixedcolor\u001b[0m \u001b[0;34m=\u001b[0m \u001b[0mmix\u001b[0m\u001b[0;34m.\u001b[0m\u001b[0mT\u001b[0m \u001b[0;34m@\u001b[0m \u001b[0mcolors\u001b[0m\u001b[0;34m[\u001b[0m\u001b[0mv\u001b[0m\u001b[0;34m]\u001b[0m\u001b[0;34m\u001b[0m\u001b[0;34m\u001b[0m\u001b[0m\n\u001b[0m\u001b[1;32m    117\u001b[0m \u001b[0mprint\u001b[0m\u001b[0;34m(\u001b[0m\u001b[0mmixedcolor\u001b[0m\u001b[0;34m.\u001b[0m\u001b[0mshape\u001b[0m\u001b[0;34m)\u001b[0m\u001b[0;34m\u001b[0m\u001b[0;34m\u001b[0m\u001b[0m\n\u001b[1;32m    118\u001b[0m \u001b[0;32massert\u001b[0m \u001b[0;32mFalse\u001b[0m\u001b[0;34m\u001b[0m\u001b[0;34m\u001b[0m\u001b[0m\n",
            "\u001b[0;31mValueError\u001b[0m: matmul: Input operand 1 has a mismatch in its core dimension 0, with gufunc signature (n?,k),(k,m?)->(n?,m?) (size 3 is different from 121)"
          ]
        }
      ]
    },
    {
      "cell_type": "code",
      "metadata": {
        "colab": {
          "base_uri": "https://localhost:8080/"
        },
        "id": "f6ayusjRbiVZ",
        "outputId": "580de2e4-d077-4b9a-e2a4-bfce9ea4aed6"
      },
      "source": [
        "mixedcolor.shape"
      ],
      "execution_count": 35,
      "outputs": [
        {
          "output_type": "execute_result",
          "data": {
            "text/plain": [
              "(121, 121, 3)"
            ]
          },
          "metadata": {
            "tags": []
          },
          "execution_count": 35
        }
      ]
    },
    {
      "cell_type": "code",
      "metadata": {
        "colab": {
          "base_uri": "https://localhost:8080/",
          "height": 1000
        },
        "id": "3WsbD2c0Mvqd",
        "outputId": "2629ab20-0a14-416a-843d-a06f11d56f17"
      },
      "source": [
        "import matplotlib.pyplot as plt\n",
        "\n",
        "# 代表点。4つだけ。\n",
        "points = np.array([[0, -0.1], [0, 1.1], [1.2, 0], [1, 1]])\n",
        "# 補間したい、代表点ごとの代表色\n",
        "colors = np.array([[0.5, 0.0, 0.0],     #dark red\n",
        "                   [0.0, 0.5, 0.0],     #dark green\n",
        "                   [0.0, 0.0, 0.5],     #dark blue\n",
        "                   [0.1, 0.2, 0.3]])   #90% gray\n",
        "\n",
        "# いきなりDelaunay三角形分割\n",
        "tri = DelaunayE(points)\n",
        "\n",
        "# 0.1間隔で\n",
        "p = []\n",
        "for ix in range(11):\n",
        "    for iy in range(11):\n",
        "        x, y = ix/4-1, iy/4-1\n",
        "        p = np.array([x, y])\n",
        "        # どの三角形か、その中の内挿比\n",
        "        v, mix = tri.mixratio(p)\n",
        "        print(v, p, mix)\n",
        "        # その比率で、頂点の色を混ぜる。\n",
        "        mixedcolor = mix @ colors[v]\n",
        "        # 0〜1を越えたらclip\n",
        "        mixedcolor = np.clip(mixedcolor, 0.0, 1.0)\n",
        "        plt.scatter(x, y, s=50, facecolor=mixedcolor)\n",
        "plt.triplot(points[:,0], points[:,1], tri.simplices)\n",
        "plt.scatter(points[:,0], points[:,1], s=100, facecolor=colors)\n",
        "plt.show()"
      ],
      "execution_count": 8,
      "outputs": [
        {
          "output_type": "stream",
          "text": [
            "[3 1 0] [-1. -1.] [-1.          0.16666667  1.83333333]\n",
            "[3 1 0] [-1.   -0.75] [-1.     0.375  1.625]\n",
            "[3 1 0] [-1.  -0.5] [-1.          0.58333333  1.41666667]\n",
            "[3 1 0] [-1.   -0.25] [-1.          0.79166667  1.20833333]\n",
            "[3 1 0] [-1.  0.] [-1.  1.  1.]\n",
            "[3 1 0] [-1.    0.25] [-1.          1.20833333  0.79166667]\n",
            "[3 1 0] [-1.   0.5] [-1.          1.41666667  0.58333333]\n",
            "[3 1 0] [-1.    0.75] [-1.     1.625  0.375]\n",
            "[3 1 0] [-1.  1.] [-1.          1.83333333  0.16666667]\n",
            "[3 1 0] [-1.    1.25] [-1.          2.04166667 -0.04166667]\n",
            "[3 1 0] [-1.   1.5] [-1.    2.25 -0.25]\n",
            "[2 3 0] [-0.75 -1.  ] [ 0.06147541 -0.82377049  1.76229508]\n",
            "[3 1 0] [-0.75 -0.75] [-0.75        0.14583333  1.60416667]\n",
            "[3 1 0] [-0.75 -0.5 ] [-0.75        0.35416667  1.39583333]\n",
            "[3 1 0] [-0.75 -0.25] [-0.75    0.5625  1.1875]\n",
            "[3 1 0] [-0.75  0.  ] [-0.75        0.77083333  0.97916667]\n",
            "[3 1 0] [-0.75  0.25] [-0.75        0.97916667  0.77083333]\n",
            "[3 1 0] [-0.75  0.5 ] [-0.75    1.1875  0.5625]\n",
            "[3 1 0] [-0.75  0.75] [-0.75        1.39583333  0.35416667]\n",
            "[3 1 0] [-0.75  1.  ] [-0.75        1.60416667  0.14583333]\n",
            "[3 1 0] [-0.75  1.25] [-0.75    1.8125 -0.0625]\n",
            "[3 1 0] [-0.75  1.5 ] [-0.75        2.02083333 -0.27083333]\n",
            "[2 3 0] [-0.5 -1. ] [ 0.28688525 -0.8442623   1.55737705]\n",
            "[2 3 0] [-0.5  -0.75] [ 0.08196721 -0.59836066  1.51639344]\n",
            "[3 1 0] [-0.5 -0.5] [-0.5    0.125  1.375]\n",
            "[3 1 0] [-0.5  -0.25] [-0.5         0.33333333  1.16666667]\n",
            "[3 1 0] [-0.5  0. ] [-0.5         0.54166667  0.95833333]\n",
            "[3 1 0] [-0.5   0.25] [-0.5   0.75  0.75]\n",
            "[3 1 0] [-0.5  0.5] [-0.5         0.95833333  0.54166667]\n",
            "[3 1 0] [-0.5   0.75] [-0.5         1.16666667  0.33333333]\n",
            "[3 1 0] [-0.5  1. ] [-0.5    1.375  0.125]\n",
            "[3 1 0] [-0.5   1.25] [-0.5         1.58333333 -0.08333333]\n",
            "[3 1 0] [-0.5  1.5] [-0.5         1.79166667 -0.29166667]\n",
            "[2 3 0] [-0.25 -1.  ] [ 0.51229508 -0.8647541   1.35245902]\n",
            "[2 3 0] [-0.25 -0.75] [ 0.30737705 -0.61885246  1.31147541]\n",
            "[2 3 0] [-0.25 -0.5 ] [ 0.10245902 -0.37295082  1.2704918 ]\n",
            "[3 1 0] [-0.25 -0.25] [-0.25        0.10416667  1.14583333]\n",
            "[3 1 0] [-0.25  0.  ] [-0.25    0.3125  0.9375]\n",
            "[3 1 0] [-0.25  0.25] [-0.25        0.52083333  0.72916667]\n",
            "[3 1 0] [-0.25  0.5 ] [-0.25        0.72916667  0.52083333]\n",
            "[3 1 0] [-0.25  0.75] [-0.25    0.9375  0.3125]\n",
            "[3 1 0] [-0.25  1.  ] [-0.25        1.14583333  0.10416667]\n",
            "[3 1 0] [-0.25  1.25] [-0.25        1.35416667 -0.10416667]\n",
            "[3 1 0] [-0.25  1.5 ] [-0.25    1.5625 -0.3125]\n",
            "[2 3 0] [ 0. -1.] [ 0.73770492 -0.8852459   1.14754098]\n",
            "[2 3 0] [ 0.   -0.75] [ 0.53278689 -0.63934426  1.10655738]\n",
            "[2 3 0] [ 0.  -0.5] [ 0.32786885 -0.39344262  1.06557377]\n",
            "[2 3 0] [ 0.   -0.25] [ 0.12295082 -0.14754098  1.02459016]\n",
            "[3 1 0] [0. 0.] [0.         0.08333333 0.91666667]\n",
            "[3 1 0] [0.   0.25] [0.         0.29166667 0.70833333]\n",
            "[3 1 0] [0.  0.5] [0.  0.5 0.5]\n",
            "[3 1 0] [0.   0.75] [0.         0.70833333 0.29166667]\n",
            "[3 1 0] [0. 1.] [0.         0.91666667 0.08333333]\n",
            "[3 1 0] [0.   1.25] [ 0.     1.125 -0.125]\n",
            "[3 1 0] [0.  1.5] [ 0.          1.33333333 -0.33333333]\n",
            "[2 3 0] [ 0.25 -1.  ] [ 0.96311475 -0.9057377   0.94262295]\n",
            "[2 3 0] [ 0.25 -0.75] [ 0.75819672 -0.65983607  0.90163934]\n",
            "[2 3 0] [ 0.25 -0.5 ] [ 0.55327869 -0.41393443  0.86065574]\n",
            "[2 3 0] [ 0.25 -0.25] [ 0.34836066 -0.16803279  0.81967213]\n",
            "[2 3 0] [0.25 0.  ] [0.14344262 0.07786885 0.77868852]\n",
            "[3 1 0] [0.25 0.25] [0.25   0.0625 0.6875]\n",
            "[3 1 0] [0.25 0.5 ] [0.25       0.27083333 0.47916667]\n",
            "[3 1 0] [0.25 0.75] [0.25       0.47916667 0.27083333]\n",
            "[3 1 0] [0.25 1.  ] [0.25   0.6875 0.0625]\n",
            "[3 1 0] [0.25 1.25] [ 0.25        0.89583333 -0.14583333]\n",
            "[3 1 0] [0.25 1.5 ] [ 0.25        1.10416667 -0.35416667]\n",
            "[2 3 0] [ 0.5 -1. ] [ 1.18852459 -0.92622951  0.73770492]\n",
            "[2 3 0] [ 0.5  -0.75] [ 0.98360656 -0.68032787  0.69672131]\n",
            "[2 3 0] [ 0.5 -0.5] [ 0.77868852 -0.43442623  0.6557377 ]\n",
            "[2 3 0] [ 0.5  -0.25] [ 0.57377049 -0.18852459  0.6147541 ]\n",
            "[2 3 0] [0.5 0. ] [0.36885246 0.05737705 0.57377049]\n",
            "[2 3 0] [0.5  0.25] [0.16393443 0.30327869 0.53278689]\n",
            "[3 1 0] [0.5 0.5] [0.5        0.04166667 0.45833333]\n",
            "[3 1 0] [0.5  0.75] [0.5  0.25 0.25]\n",
            "[3 1 0] [0.5 1. ] [0.5        0.45833333 0.04166667]\n",
            "[3 1 0] [0.5  1.25] [ 0.5         0.66666667 -0.16666667]\n",
            "[3 1 0] [0.5 1.5] [ 0.5    0.875 -0.375]\n",
            "[2 3 0] [ 0.75 -1.  ] [ 1.41393443 -0.94672131  0.53278689]\n",
            "[2 3 0] [ 0.75 -0.75] [ 1.20901639 -0.70081967  0.49180328]\n",
            "[2 3 0] [ 0.75 -0.5 ] [ 1.00409836 -0.45491803  0.45081967]\n",
            "[2 3 0] [ 0.75 -0.25] [ 0.79918033 -0.20901639  0.40983607]\n",
            "[2 3 0] [0.75 0.  ] [0.5942623  0.03688525 0.36885246]\n",
            "[2 3 0] [0.75 0.25] [0.38934426 0.28278689 0.32786885]\n",
            "[2 3 0] [0.75 0.5 ] [0.18442623 0.52868852 0.28688525]\n",
            "[3 1 0] [0.75 0.75] [0.75       0.02083333 0.22916667]\n",
            "[3 1 0] [0.75 1.  ] [0.75       0.22916667 0.02083333]\n",
            "[3 1 0] [0.75 1.25] [ 0.75    0.4375 -0.1875]\n",
            "[3 1 0] [0.75 1.5 ] [ 0.75        0.64583333 -0.39583333]\n",
            "[2 3 0] [ 1. -1.] [ 1.63934426 -0.96721311  0.32786885]\n",
            "[2 3 0] [ 1.   -0.75] [ 1.43442623 -0.72131148  0.28688525]\n",
            "[2 3 0] [ 1.  -0.5] [ 1.2295082  -0.47540984  0.24590164]\n",
            "[2 3 0] [ 1.   -0.25] [ 1.02459016 -0.2295082   0.20491803]\n",
            "[2 3 0] [1. 0.] [0.81967213 0.01639344 0.16393443]\n",
            "[2 3 0] [1.   0.25] [0.6147541  0.26229508 0.12295082]\n",
            "[2 3 0] [1.  0.5] [0.40983607 0.50819672 0.08196721]\n",
            "[2 3 0] [1.   0.75] [0.20491803 0.75409836 0.04098361]\n",
            "[3 1 0] [1. 1.] [1. 0. 0.]\n",
            "[3 1 0] [1.   1.25] [ 1.          0.20833333 -0.20833333]\n",
            "[3 1 0] [1.  1.5] [ 1.          0.41666667 -0.41666667]\n",
            "[2 3 0] [ 1.25 -1.  ] [ 1.8647541  -0.98770492  0.12295082]\n",
            "[2 3 0] [ 1.25 -0.75] [ 1.65983607 -0.74180328  0.08196721]\n",
            "[2 3 0] [ 1.25 -0.5 ] [ 1.45491803 -0.49590164  0.04098361]\n",
            "[2 3 0] [ 1.25 -0.25] [ 1.25000000e+00 -2.50000000e-01 -4.16333634e-17]\n",
            "[2 3 0] [1.25 0.  ] [ 1.04508197 -0.00409836 -0.04098361]\n",
            "[2 3 0] [1.25 0.25] [ 0.84016393  0.24180328 -0.08196721]\n",
            "[2 3 0] [1.25 0.5 ] [ 0.6352459   0.48770492 -0.12295082]\n",
            "[2 3 0] [1.25 0.75] [ 0.43032787  0.73360656 -0.16393443]\n",
            "[2 3 0] [1.25 1.  ] [ 0.22540984  0.9795082  -0.20491803]\n",
            "[2 3 0] [1.25 1.25] [ 0.0204918   1.22540984 -0.24590164]\n",
            "[3 1 0] [1.25 1.5 ] [ 1.25    0.1875 -0.4375]\n",
            "[2 3 0] [ 1.5 -1. ] [ 2.09016393 -1.00819672 -0.08196721]\n",
            "[2 3 0] [ 1.5  -0.75] [ 1.8852459  -0.76229508 -0.12295082]\n",
            "[2 3 0] [ 1.5 -0.5] [ 1.68032787 -0.51639344 -0.16393443]\n",
            "[2 3 0] [ 1.5  -0.25] [ 1.47540984 -0.2704918  -0.20491803]\n",
            "[2 3 0] [1.5 0. ] [ 1.2704918  -0.02459016 -0.24590164]\n",
            "[2 3 0] [1.5  0.25] [ 1.06557377  0.22131148 -0.28688525]\n",
            "[2 3 0] [1.5 0.5] [ 0.86065574  0.46721311 -0.32786885]\n",
            "[2 3 0] [1.5  0.75] [ 0.6557377   0.71311475 -0.36885246]\n",
            "[2 3 0] [1.5 1. ] [ 0.45081967  0.95901639 -0.40983607]\n",
            "[2 3 0] [1.5  1.25] [ 0.24590164  1.20491803 -0.45081967]\n",
            "[2 3 0] [1.5 1.5] [ 0.04098361  1.45081967 -0.49180328]\n"
          ],
          "name": "stdout"
        },
        {
          "output_type": "display_data",
          "data": {
            "image/png": "[encoded data removed]",
            "text/plain": [
              "<Figure size 432x288 with 1 Axes>"
            ]
          },
          "metadata": {
            "tags": [],
            "needs_background": "light"
          }
        }
      ]
    },
    {
      "cell_type": "code",
      "metadata": {
        "id": "iW9pjWYpM7RF"
      },
      "source": [
        "Delaunay.find_simplex?"
      ],
      "execution_count": null,
      "outputs": []
    },
    {
      "cell_type": "code",
      "metadata": {
        "id": "gL6pOKm4OS9r"
      },
      "source": [
        ""
      ],
      "execution_count": null,
      "outputs": []
    }
  ]
}